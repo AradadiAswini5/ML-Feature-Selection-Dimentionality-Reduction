{
 "cells": [
  {
   "cell_type": "code",
   "execution_count": 110,
   "id": "9c32d0e2",
   "metadata": {},
   "outputs": [],
   "source": [
    "import pandas as pd\n",
    "from sklearn.model_selection import train_test_split \n",
    "import numpy as np\n",
    "from sklearn.preprocessing import StandardScaler\n",
    "from sklearn.discriminant_analysis import LinearDiscriminantAnalysis as LDA\n",
    "from sklearn.linear_model import LogisticRegression\n",
    "from sklearn.svm import SVC\n",
    "from sklearn.naive_bayes import GaussianNB\n",
    "from sklearn.neighbors import KNeighborsClassifier\n",
    "from sklearn.tree import DecisionTreeClassifier\n",
    "from sklearn.ensemble import RandomForestClassifier\n",
    "from sklearn.metrics import confusion_matrix, accuracy_score, classification_report"
   ]
  },
  {
   "cell_type": "code",
   "execution_count": 111,
   "id": "2abe8b43",
   "metadata": {},
   "outputs": [],
   "source": [
    "def LDA_features(indep_X, dep_Y):\n",
    "    sc = StandardScaler()\n",
    "    indep_X = sc.fit_transform(indep_X)\n",
    "    \n",
    "    lda = LDA(n_components=2)   # 👈 Change number here (2, 3, or 4)\n",
    "    lda_features = lda.fit_transform(indep_X, dep_Y)\n",
    "    return lda_features"
   ]
  },
  {
   "cell_type": "code",
   "execution_count": 112,
   "id": "ef2cbff7-a95e-459f-8cd0-0631f1ca99b9",
   "metadata": {},
   "outputs": [],
   "source": [
    "# --- Split Function ---\n",
    "def split_scalar(indep_X, dep_Y):\n",
    "    X_train, X_test, y_train, y_test = train_test_split(indep_X, dep_Y, test_size=0.25, random_state=0)\n",
    "    return X_train, X_test, y_train, y_test"
   ]
  },
  {
   "cell_type": "code",
   "execution_count": 113,
   "id": "bc4b76dc-8d6d-4fec-962d-5e2d796d9efa",
   "metadata": {},
   "outputs": [],
   "source": [
    "# --- Common Prediction Function ---\n",
    "def cm_prediction(classifier, X_test):\n",
    "    y_pred = classifier.predict(X_test)\n",
    "    cm = confusion_matrix(y_test, y_pred)\n",
    "    Accuracy = accuracy_score(y_test, y_pred)\n",
    "    report = classification_report(y_test, y_pred)\n",
    "    return classifier, Accuracy, report, X_test, y_test, cm"
   ]
  },
  {
   "cell_type": "code",
   "execution_count": 114,
   "id": "b3f270d0-a6f4-4879-8f55-e9ce29f512fb",
   "metadata": {},
   "outputs": [],
   "source": [
    "# --- Model Functions ---\n",
    "def logistic(X_train, y_train, X_test):\n",
    "    classifier = LogisticRegression(random_state=0, max_iter=2000)\n",
    "    classifier.fit(X_train, y_train)\n",
    "    return cm_prediction(classifier, X_test)\n",
    "\n",
    "def svm_linear(X_train, y_train, X_test):\n",
    "    classifier = SVC(kernel='linear', random_state=0)\n",
    "    classifier.fit(X_train, y_train)\n",
    "    return cm_prediction(classifier, X_test)\n",
    "\n",
    "def svm_NL(X_train, y_train, X_test):\n",
    "    classifier = SVC(kernel='rbf', random_state=0)\n",
    "    classifier.fit(X_train, y_train)\n",
    "    return cm_prediction(classifier, X_test)\n",
    "\n",
    "def Navie(X_train, y_train, X_test):\n",
    "    classifier = GaussianNB()\n",
    "    classifier.fit(X_train, y_train)\n",
    "    return cm_prediction(classifier, X_test)\n",
    "\n",
    "def knn(X_train, y_train, X_test):\n",
    "    classifier = KNeighborsClassifier(n_neighbors=5, metric='minkowski', p=2)\n",
    "    classifier.fit(X_train, y_train)\n",
    "    return cm_prediction(classifier, X_test)\n",
    "\n",
    "def Decision(X_train, y_train, X_test):\n",
    "    classifier = DecisionTreeClassifier(criterion='entropy', random_state=0)\n",
    "    classifier.fit(X_train, y_train)\n",
    "    return cm_prediction(classifier, X_test)\n",
    "\n",
    "def random(X_train, y_train, X_test):\n",
    "    classifier = RandomForestClassifier(n_estimators=10, criterion='entropy', random_state=0)\n",
    "    classifier.fit(X_train, y_train)\n",
    "    return cm_prediction(classifier, X_test)\n",
    "\n",
    "# --- Table Function ---\n",
    "def LDA_Classification(acclog, accsvml, accsvmnl, accknn, accnav, accdes, accrf):\n",
    "    dataframe = pd.DataFrame(index=['LDA'], columns=['Logistic','SVMl','SVMnl','KNN','Navie','Decision','Random'])\n",
    "    for number, idex in enumerate(dataframe.index):      \n",
    "        dataframe['Logistic'][idex] = acclog[number]       \n",
    "        dataframe['SVMl'][idex] = accsvml[number]\n",
    "        dataframe['SVMnl'][idex] = accsvmnl[number]\n",
    "        dataframe['KNN'][idex] = accknn[number]\n",
    "        dataframe['Navie'][idex] = accnav[number]\n",
    "        dataframe['Decision'][idex] = accdes[number]\n",
    "        dataframe['Random'][idex] = accrf[number]\n",
    "    return dataframe"
   ]
  },
  {
   "cell_type": "code",
   "execution_count": 115,
   "id": "30e81de8-147f-4ede-a292-c7978a2b1c48",
   "metadata": {},
   "outputs": [],
   "source": [
    "import warnings\n",
    "from sklearn.exceptions import ConvergenceWarning\n",
    "warnings.filterwarnings(\"ignore\", category=ConvergenceWarning)\n",
    "warnings.filterwarnings(\"ignore\", category=FutureWarning)"
   ]
  },
  {
   "cell_type": "code",
   "execution_count": 116,
   "id": "30285f6d-0376-407b-b0d8-7012fba5f9d4",
   "metadata": {},
   "outputs": [],
   "source": [
    "# --- MAIN EXECUTION ---\n",
    "dataset = pd.read_csv(\"Wine.csv\")\n",
    "indep_X = dataset.iloc[:, 0:13]\n",
    "dep_Y = dataset.iloc[:, 13]\n",
    "\n",
    "lda_features = LDA_features(indep_X, dep_Y)\n",
    "\n",
    "acclog=[]; accsvml=[]; accsvmnl=[]; accknn=[]; accnav=[]; accdes=[]; accrf=[]\n",
    "\n",
    "X_train, X_test, y_train, y_test = split_scalar(lda_features, dep_Y)\n",
    "\n",
    "classifier, Accuracy, report, X_test, y_test, cm = logistic(X_train, y_train, X_test)\n",
    "acclog.append(Accuracy)\n",
    "\n",
    "classifier, Accuracy, report, X_test, y_test, cm = svm_linear(X_train, y_train, X_test)\n",
    "accsvml.append(Accuracy)\n",
    "\n",
    "classifier, Accuracy, report, X_test, y_test, cm = svm_NL(X_train, y_train, X_test)\n",
    "accsvmnl.append(Accuracy)\n",
    "\n",
    "classifier, Accuracy, report, X_test, y_test, cm = knn(X_train, y_train, X_test)\n",
    "accknn.append(Accuracy)\n",
    "\n",
    "classifier, Accuracy, report, X_test, y_test, cm = Navie(X_train, y_train, X_test)\n",
    "accnav.append(Accuracy)\n",
    "\n",
    "classifier, Accuracy, report, X_test, y_test, cm = Decision(X_train, y_train, X_test)\n",
    "accdes.append(Accuracy)\n",
    "\n",
    "classifier, Accuracy, report, X_test, y_test, cm = random(X_train, y_train, X_test)\n",
    "accrf.append(Accuracy)\n",
    "\n",
    "result = LDA_Classification(acclog, accsvml, accsvmnl, accknn, accnav, accdes, accrf)"
   ]
  },
  {
   "cell_type": "code",
   "execution_count": 101,
   "id": "6c88ea0a-b166-4e4d-9555-9df2ab5fa36f",
   "metadata": {},
   "outputs": [
    {
     "data": {
      "text/html": [
       "<div>\n",
       "<style scoped>\n",
       "    .dataframe tbody tr th:only-of-type {\n",
       "        vertical-align: middle;\n",
       "    }\n",
       "\n",
       "    .dataframe tbody tr th {\n",
       "        vertical-align: top;\n",
       "    }\n",
       "\n",
       "    .dataframe thead th {\n",
       "        text-align: right;\n",
       "    }\n",
       "</style>\n",
       "<table border=\"1\" class=\"dataframe\">\n",
       "  <thead>\n",
       "    <tr style=\"text-align: right;\">\n",
       "      <th></th>\n",
       "      <th>Logistic</th>\n",
       "      <th>SVMl</th>\n",
       "      <th>SVMnl</th>\n",
       "      <th>KNN</th>\n",
       "      <th>Navie</th>\n",
       "      <th>Decision</th>\n",
       "      <th>Random</th>\n",
       "    </tr>\n",
       "  </thead>\n",
       "  <tbody>\n",
       "    <tr>\n",
       "      <th>LDA</th>\n",
       "      <td>0.866667</td>\n",
       "      <td>0.844444</td>\n",
       "      <td>0.866667</td>\n",
       "      <td>0.866667</td>\n",
       "      <td>0.866667</td>\n",
       "      <td>0.911111</td>\n",
       "      <td>0.888889</td>\n",
       "    </tr>\n",
       "  </tbody>\n",
       "</table>\n",
       "</div>"
      ],
      "text/plain": [
       "     Logistic      SVMl     SVMnl       KNN     Navie  Decision    Random\n",
       "LDA  0.866667  0.844444  0.866667  0.866667  0.866667  0.911111  0.888889"
      ]
     },
     "execution_count": 101,
     "metadata": {},
     "output_type": "execute_result"
    }
   ],
   "source": [
    "result\n",
    "#1"
   ]
  },
  {
   "cell_type": "markdown",
   "id": "eae88846-ba20-4829-bfe1-c9b8ab3a970e",
   "metadata": {},
   "source": [
    "The table shows the accuracy scores for the models when LDA is used as a preprocessing step.\n",
    "\n",
    "The Decision model achieved the highest accuracy at approximately 91.1%.\n",
    "\n",
    "The Random Forest model had the second-highest accuracy at approximately 88.9%.\n",
    "\n",
    "The other models (Logistic Regression, SVMl, SVMnl, KNN, and Naive Bayes) all performed similarly, with accuracies around 84.4% to 86.7%.\n",
    "\n",
    "This table indicates that for this specific dataset and LDA setup, Decision Trees and Random Forest classifiers were the most effective models."
   ]
  },
  {
   "cell_type": "code",
   "execution_count": 118,
   "id": "3f3eca76-1e59-4e17-b7cd-f0320fa14a81",
   "metadata": {},
   "outputs": [
    {
     "data": {
      "text/html": [
       "<div>\n",
       "<style scoped>\n",
       "    .dataframe tbody tr th:only-of-type {\n",
       "        vertical-align: middle;\n",
       "    }\n",
       "\n",
       "    .dataframe tbody tr th {\n",
       "        vertical-align: top;\n",
       "    }\n",
       "\n",
       "    .dataframe thead th {\n",
       "        text-align: right;\n",
       "    }\n",
       "</style>\n",
       "<table border=\"1\" class=\"dataframe\">\n",
       "  <thead>\n",
       "    <tr style=\"text-align: right;\">\n",
       "      <th></th>\n",
       "      <th>Logistic</th>\n",
       "      <th>SVMl</th>\n",
       "      <th>SVMnl</th>\n",
       "      <th>KNN</th>\n",
       "      <th>Navie</th>\n",
       "      <th>Decision</th>\n",
       "      <th>Random</th>\n",
       "    </tr>\n",
       "  </thead>\n",
       "  <tbody>\n",
       "    <tr>\n",
       "      <th>LDA</th>\n",
       "      <td>1.0</td>\n",
       "      <td>1.0</td>\n",
       "      <td>1.0</td>\n",
       "      <td>1.0</td>\n",
       "      <td>1.0</td>\n",
       "      <td>1.0</td>\n",
       "      <td>1.0</td>\n",
       "    </tr>\n",
       "  </tbody>\n",
       "</table>\n",
       "</div>"
      ],
      "text/plain": [
       "    Logistic SVMl SVMnl  KNN Navie Decision Random\n",
       "LDA      1.0  1.0   1.0  1.0   1.0      1.0    1.0"
      ]
     },
     "execution_count": 118,
     "metadata": {},
     "output_type": "execute_result"
    }
   ],
   "source": [
    "result\n",
    "#2"
   ]
  },
  {
   "cell_type": "markdown",
   "id": "9c90a330-0e0d-426a-9c02-8dcda462d54e",
   "metadata": {},
   "source": [
    "The second table shows that all seven models achieved a perfect accuracy score of 1.0 (100%).\n",
    "\n",
    "This result suggests that the dataset is highly separable after being transformed by LDA. "
   ]
  },
  {
   "cell_type": "code",
   "execution_count": null,
   "id": "39e4a2d6-c8f3-4200-b2cc-686e68a215f3",
   "metadata": {},
   "outputs": [],
   "source": []
  }
 ],
 "metadata": {
  "kernelspec": {
   "display_name": "Python 3 (ipykernel)",
   "language": "python",
   "name": "python3"
  },
  "language_info": {
   "codemirror_mode": {
    "name": "ipython",
    "version": 3
   },
   "file_extension": ".py",
   "mimetype": "text/x-python",
   "name": "python",
   "nbconvert_exporter": "python",
   "pygments_lexer": "ipython3",
   "version": "3.12.9"
  }
 },
 "nbformat": 4,
 "nbformat_minor": 5
}
